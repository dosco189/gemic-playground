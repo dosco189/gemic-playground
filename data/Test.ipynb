{
 "cells": [
  {
   "cell_type": "code",
   "execution_count": 13,
   "metadata": {},
   "outputs": [],
   "source": [
    "import numpy as np\n",
    "import pandas as pd\n",
    "import matplotlib.pyplot as plt\n",
    "data = pd.read_csv('Austin, Texas, United States.csv')\n",
    "df_deduped = data.drop_duplicates(subset='source')\n",
    "df_deduped.to_csv('clean_data/deduplicated_data2.csv', index=False)"
   ]
  }
 ],
 "metadata": {
  "kernelspec": {
   "display_name": "base",
   "language": "python",
   "name": "python3"
  },
  "language_info": {
   "codemirror_mode": {
    "name": "ipython",
    "version": 3
   },
   "file_extension": ".py",
   "mimetype": "text/x-python",
   "name": "python",
   "nbconvert_exporter": "python",
   "pygments_lexer": "ipython3",
   "version": "3.9.7"
  },
  "orig_nbformat": 4,
  "vscode": {
   "interpreter": {
    "hash": "843ce755295a08861653f8e2cc3f497e337a106b0a6b7902d95b468787cdfe7c"
   }
  }
 },
 "nbformat": 4,
 "nbformat_minor": 2
}
